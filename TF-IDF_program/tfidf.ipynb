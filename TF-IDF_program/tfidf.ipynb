{
 "cells": [
  {
   "cell_type": "code",
   "execution_count": 1,
   "metadata": {},
   "outputs": [],
   "source": [
    "from __future__ import absolute_import, division, print_function#, unicode_literal\n",
    "import math\n",
    "import functools\n",
    "from pathlib import Path\n",
    "import numpy as np\n",
    "import os\n",
    "import pandas as pd"
   ]
  },
  {
   "cell_type": "code",
   "execution_count": 2,
   "metadata": {},
   "outputs": [],
   "source": [
    "file_names=['NASA1', 'NASA2', 'NASA3', 'NASA4', 'NASA5', 'NASA6']\n",
    "file_word_counts = dict()\n",
    "number_of_files = 6\n",
    "list_for_sum = []\n",
    "total_sums = []\n",
    "total_word_count = dict()\n",
    "temporary_word_stuff = 0\n",
    "num_docs_term_t = dict()\n",
    "collection_of_tfidf= dict()"
   ]
  },
  {
   "cell_type": "code",
   "execution_count": 3,
   "metadata": {},
   "outputs": [],
   "source": [
    "for name in file_names:\n",
    "    with open(name + '.txt', 'r', encoding='utf8') as file:\n",
    "        contents = file.read()\n",
    "        #print(contents)\n",
    "        counts = dict()\n",
    "        words = None\n",
    "        words = contents.split()\n",
    "        word_count = len(words)\n",
    "        for word in words:\n",
    "            if word in counts:\n",
    "                counts[word] += 1\n",
    "            else:\n",
    "                counts[word] = 1\n",
    "        file_word_counts[name] = counts\n",
    "    total_word_count[name] = word_count\n"
   ]
  },
  {
   "cell_type": "code",
   "execution_count": 4,
   "metadata": {},
   "outputs": [],
   "source": [
    "for name in file_word_counts.keys():\n",
    "    \n",
    "    for word in file_word_counts[name].keys():\n",
    "        if word in num_docs_term_t:\n",
    "            num_docs_term_t[word] += 1\n",
    "        else:\n",
    "            num_docs_term_t.update({word:1})\n",
    "        file_word_counts[name] = num_docs_term_t\n"
   ]
  },
  {
   "cell_type": "code",
   "execution_count": 5,
   "metadata": {},
   "outputs": [],
   "source": [
    "for key in file_word_counts.keys():\n",
    "    #iterating over the items in each dictionary for the key assigned above\n",
    "    for j,k in file_word_counts[key].items():\n",
    "        #calculating the td\n",
    "        term_frequency=k/total_word_count[key]\n",
    "        num_of_docs = num_docs_term_t.get(j)\n",
    "        #print(num_of_docs)\n",
    "        idf=math.log2(number_of_files/num_of_docs)\n",
    "        tf_idf = term_frequency*idf\n",
    "        \n",
    "        collection_of_tfidf.setdefault(key, {})[j] = tf_idf"
   ]
  },
  {
   "cell_type": "code",
   "execution_count": 6,
   "metadata": {},
   "outputs": [],
   "source": [
    "inverted_df= pd.DataFrame.from_dict(collection_of_tfidf)\n",
    "inverted_df = inverted_df.drop([\"and\", \"of\", \"to\", \"for\", \"a\", \"in\", \"is\", \"we\"])\n",
    "#inverted_df = inverted_df.drop([\"the\", \"and\", \"of\", \"to\", \"for\", \"a\", \"in\", \",\", \"is\", \"k\", \"0\", \"∈\", \"we\"])\n",
    "\n",
    "df = pd.DataFrame.transpose(inverted_df)"
   ]
  },
  {
   "cell_type": "code",
   "execution_count": 10,
   "metadata": {},
   "outputs": [
    {
     "name": "stdout",
     "output_type": "stream",
     "text": [
      "               NASA1     NASA2     NASA3     NASA4     NASA5     NASA6\n",
      "JOINT       0.000594  0.000594  0.000193  0.000335  0.000335  0.000502\n",
      "infinity,   0.000594  0.000594  0.000193  0.000335  0.000335  0.000502\n",
      "u˜)         0.000594  0.000594  0.000193  0.000335  0.000335  0.000502\n",
      "[0,t˜f      0.000594  0.000594  0.000193  0.000335  0.000335  0.000502\n",
      "nontrivial  0.000594  0.000594  0.000193  0.000335  0.000335  0.000502\n",
      "...              ...       ...       ...       ...       ...       ...\n",
      "found       0.000000  0.000000  0.000000  0.000000  0.000000  0.000000\n",
      "this        0.000000  0.000000  0.000000  0.000000  0.000000  0.000000\n",
      "working     0.000000  0.000000  0.000000  0.000000  0.000000  0.000000\n",
      "5           0.000000  0.000000  0.000000  0.000000  0.000000  0.000000\n",
      "there       0.000000  0.000000  0.000000  0.000000  0.000000  0.000000\n",
      "\n",
      "[8269 rows x 6 columns]\n"
     ]
    }
   ],
   "source": [
    "print(inverted_df)\n",
    "inverted_df = inverted_df.sort_values(\"NASA2\", axis=0, ascending=False, inplace=False) \n"
   ]
  },
  {
   "cell_type": "code",
   "execution_count": 12,
   "metadata": {},
   "outputs": [
    {
     "name": "stdout",
     "output_type": "stream",
     "text": [
      "                     NASA1     NASA2     NASA3     NASA4     NASA5     NASA6\n",
      "JOINT             0.000594  0.000594  0.000193  0.000335  0.000335  0.000502\n",
      "characteristics.  0.000594  0.000594  0.000193  0.000335  0.000335  0.000502\n",
      "work:             0.000594  0.000594  0.000193  0.000335  0.000335  0.000502\n"
     ]
    }
   ],
   "source": [
    "print(inverted_df[0:3])"
   ]
  }
 ],
 "metadata": {
  "kernelspec": {
   "display_name": "Python 3.9.6 64-bit",
   "language": "python",
   "name": "python3"
  },
  "language_info": {
   "codemirror_mode": {
    "name": "ipython",
    "version": 3
   },
   "file_extension": ".py",
   "mimetype": "text/x-python",
   "name": "python",
   "nbconvert_exporter": "python",
   "pygments_lexer": "ipython3",
   "version": "3.9.6"
  },
  "orig_nbformat": 4,
  "vscode": {
   "interpreter": {
    "hash": "aee8b7b246df8f9039afb4144a1f6fd8d2ca17a180786b69acc140d282b71a49"
   }
  }
 },
 "nbformat": 4,
 "nbformat_minor": 2
}
